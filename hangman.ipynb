{
  "nbformat": 4,
  "nbformat_minor": 0,
  "metadata": {
    "colab": {
      "provenance": [],
      "authorship_tag": "ABX9TyNce84A7LfH5NWJkDWbrbVW",
      "include_colab_link": true
    },
    "kernelspec": {
      "name": "python3",
      "display_name": "Python 3"
    },
    "language_info": {
      "name": "python"
    }
  },
  "cells": [
    {
      "cell_type": "markdown",
      "metadata": {
        "id": "view-in-github",
        "colab_type": "text"
      },
      "source": [
        "<a href=\"https://colab.research.google.com/github/raunakyadav92/hangman/blob/main/hangman.ipynb\" target=\"_parent\"><img src=\"https://colab.research.google.com/assets/colab-badge.svg\" alt=\"Open In Colab\"/></a>"
      ]
    },
    {
      "cell_type": "code",
      "execution_count": null,
      "metadata": {
        "colab": {
          "base_uri": "https://localhost:8080/"
        },
        "id": "YlIUU5rn_i8i",
        "outputId": "3f53ed9c-3767-46b5-cc09-427699479e8b"
      },
      "outputs": [
        {
          "output_type": "stream",
          "name": "stdout",
          "text": [
            "Welcome to Hangman!\n",
            "Word: _ _ _ _ _ _ _ _ _\n"
          ]
        }
      ],
      "source": [
        "import random\n",
        "\n",
        "# List of words\n",
        "words = [\"python\", \"hangman\", \"computer\", \"programming\", \"developer\"]\n",
        "\n",
        "def get_word():\n",
        "    return random.choice(words)\n",
        "\n",
        "def display(word_display):\n",
        "    print(\"Word: \" + \" \".join(word_display))\n",
        "\n",
        "def main():\n",
        "    word = get_word()\n",
        "    word_display = [\"_\" for _ in word]\n",
        "    guessed_letters = []\n",
        "    tries = 6\n",
        "\n",
        "    print(\"Welcome to Hangman!\")\n",
        "    display(word_display)\n",
        "\n",
        "    while tries > 0 and \"_\" in word_display:\n",
        "        guess = input(\"Guess a letter: \").lower()\n",
        "\n",
        "        if not guess.isalpha() or len(guess) != 1:\n",
        "            print(\"Invalid input! Please enter a single alphabet.\")\n",
        "            continue\n",
        "\n",
        "        if guess in guessed_letters:\n",
        "            print(\"You already guessed that letter!\")\n",
        "            continue\n",
        "\n",
        "        guessed_letters.append(guess)\n",
        "\n",
        "        if guess in word:\n",
        "            print(\"Good job! Letter found.\")\n",
        "            for index, letter in enumerate(word):\n",
        "                if letter == guess:\n",
        "                    word_display[index] = guess\n",
        "        else:\n",
        "            tries -= 1\n",
        "            print(f\"Wrong guess! You have {tries} tries left.\")\n",
        "\n",
        "        display(word_display)\n",
        "\n",
        "    if \"_\" not in word_display:\n",
        "        print(\"Congratulations! You guessed the word correctly.\")\n",
        "    else:\n",
        "        print(f\"Game Over! The word was '{word}'.\")\n",
        "\n",
        "if __name__ == \"__main__\":\n",
        "    main()\n"
      ]
    }
  ]
}